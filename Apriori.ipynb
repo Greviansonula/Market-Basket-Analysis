{
 "cells": [
  {
   "cell_type": "code",
   "execution_count": 2,
   "metadata": {},
   "outputs": [],
   "source": [
    "from matplotlib import pyplot as plt\n",
    "import numpy as np\n",
    "import pandas as pd\n",
    "import seaborn as sns\n",
    "import scipy\n",
    "import os\n",
    "import zipfile\n",
    "from mlxtend.frequent_patterns import apriori\n",
    "from mlxtend.frequent_patterns import association_rules"
   ]
  },
  {
   "attachments": {},
   "cell_type": "markdown",
   "metadata": {},
   "source": [
    "Data Wrangling"
   ]
  },
  {
   "cell_type": "code",
   "execution_count": 15,
   "metadata": {},
   "outputs": [],
   "source": [
    "root = './'\n",
    "folder = os.listdir(root)\n",
    "missing_value_formats = ['n.a', '?', 'n/a', 'na', '--', '-']\n",
    "\n",
    "for file in folder:\n",
    "    if file.endswith('.zip'):\n",
    "        with zipfile.ZipFile(root+file, 'r') as zfile:\n",
    "            zfile.extractall(\"./data/\")\n",
    "        for i in os.listdir('./data/'):\n",
    "            if i.endswith('.zip'):\n",
    "                with zipfile.ZipFile(os.path.join(root, \"data/\", i), 'r') as z:\n",
    "                    z.extractall('data/')\n",
    "\n",
    "data = {}\n",
    "for file in os.listdir(\"./data/\"):\n",
    "    if file.endswith('.csv'):\n",
    "        data[file[:file.find('.')]] = pd.read_csv(\"./data/\" + file, na_values=missing_value_formats)"
   ]
  },
  {
   "cell_type": "code",
   "execution_count": 7,
   "metadata": {},
   "outputs": [
    {
     "data": {
      "text/plain": [
       "['.git', 'instacart-market-basket-analysis.zip', 'Apriori.ipynb', '.gitignore']"
      ]
     },
     "execution_count": 7,
     "metadata": {},
     "output_type": "execute_result"
    }
   ],
   "source": [
    "folder"
   ]
  },
  {
   "cell_type": "code",
   "execution_count": null,
   "metadata": {},
   "outputs": [],
   "source": []
  }
 ],
 "metadata": {
  "kernelspec": {
   "display_name": "Python 3",
   "language": "python",
   "name": "python3"
  },
  "language_info": {
   "codemirror_mode": {
    "name": "ipython",
    "version": 3
   },
   "file_extension": ".py",
   "mimetype": "text/x-python",
   "name": "python",
   "nbconvert_exporter": "python",
   "pygments_lexer": "ipython3",
   "version": "3.8.16"
  },
  "orig_nbformat": 4,
  "vscode": {
   "interpreter": {
    "hash": "9ac03a0a6051494cc606d484d27d20fce22fb7b4d169f583271e11d5ba46a56e"
   }
  }
 },
 "nbformat": 4,
 "nbformat_minor": 2
}
